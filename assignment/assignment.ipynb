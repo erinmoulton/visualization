{
  "cells": [
    {
      "cell_type": "markdown",
      "id": "13ad028b-72b7-43ed-aa78-96fd4e518040",
      "metadata": {
        "id": "13ad028b-72b7-43ed-aa78-96fd4e518040"
      },
      "source": [
        "# Assignment: Exploratory Data Analysis\n",
        "### `! git clone https://github.com/DS3001/visualization`\n",
        "### Do Q1 or Q2 or Q3, and Q4. You might want to refer to your work for the data wrangling assignment."
      ]
    },
    {
      "cell_type": "markdown",
      "id": "c11bcd96-2834-41a4-80fe-d354b4277fd9",
      "metadata": {
        "id": "c11bcd96-2834-41a4-80fe-d354b4277fd9"
      },
      "source": [
        "**Q1.** This question provides some practice doing exploratory data analysis and visualization.\n",
        "\n",
        "The \"relevant\" variables for this question are:\n",
        "  - `level` - Level of institution (4-year, 2-year)\n",
        "  - `aid_value` - The average amount of student aid going to undergraduate recipients\n",
        "  - `control` - Public, Private not-for-profit, Private for-profit\n",
        "  - `grad_100_value` - percentage of first-time, full-time, degree-seeking undergraduates who complete a degree or certificate program within 100 percent of expected time (bachelor's-seeking group at 4-year institutions)\n",
        "\n",
        "1. Load the `./data/college_completion.csv` data with Pandas.\n",
        "2. What are are the dimensions of the data? How many observations are there? What are the variables included? Use `.head()` to examine the first few rows of data.\n",
        "3. Cross tabulate `control` and `level`. Describe the patterns you see.\n",
        "4. For `grad_100_value`, create a histogram, kernel density plot, boxplot, and statistical description.\n",
        "5. For `grad_100_value`, create a grouped kernel density plot by `control` and by `level`. Describe what you see. Use `groupby` and `.describe` to make grouped calculations of statistical descriptions of `grad_100_value` by `level` and `control`. Which institutions appear to have the best graduation rates?\n",
        "6. Create a new variable, `df['levelXcontrol']=df['level']+', '+df['control']` that interacts level and control. Make a grouped kernel density plot. Which institutions appear to have the best graduation rates?\n",
        "7. Make a kernel density plot of `aid_value`. Now group your graph by `level` and `control`. What explains the shape of the graph? Use `groupby` and `.describe` to make grouped calculations of statistical descriptions of `aid_value` by `level` and `control`.\n",
        "8. Make a scatterplot of `grad_100_value` by `aid_value`. Describe what you see. Now make the same plot, grouping by `level` and then `control`. Describe what you see. For which kinds of institutions does aid seem to increase graduation rates?"
      ]
    },
    {
      "cell_type": "code",
      "source": [
        "#1\n",
        "import numpy as np\n",
        "import pandas as pd\n",
        "import matplotlib.pyplot as plt\n",
        "df = pd.read_csv('https://raw.githubusercontent.com/DS3001/visualization/main/assignment/data/college_completion.csv',\n",
        "                 low_memory=False)"
      ],
      "metadata": {
        "id": "20JhO7bVDRkE"
      },
      "id": "20JhO7bVDRkE",
      "execution_count": null,
      "outputs": []
    },
    {
      "cell_type": "code",
      "source": [
        "#2\n",
        "print(df.head(),'\\n') #63 columns\n",
        "print( df.shape, '\\n') #3798 observations"
      ],
      "metadata": {
        "id": "3GyFBl5XD9_a"
      },
      "id": "3GyFBl5XD9_a",
      "execution_count": null,
      "outputs": []
    },
    {
      "cell_type": "code",
      "source": [
        "#3\n",
        "print(pd.crosstab(df['control'],df['level']),'\\n')\n",
        "print(pd.crosstab(df['control'],df['level'], normalize = 'all'),'\\n')"
      ],
      "metadata": {
        "id": "jF9hkKt9FDSm"
      },
      "id": "jF9hkKt9FDSm",
      "execution_count": null,
      "outputs": []
    },
    {
      "cell_type": "markdown",
      "source": [
        "From these results, the smallest percentage of institutions are 2 year not for profit making up 1.7% of institutions. Next private and for profit institutions follow with 2 year (12%) and 4 year (13%). Following closely are public 4-year institutions at 16%. The majority of institutions, 24%, are public 2 year colleges and private not-for-profit 4 year colleges. In conclusion, most institutions are public and 4-year programs."
      ],
      "metadata": {
        "id": "mhGHAdo4G3Pe"
      },
      "id": "mhGHAdo4G3Pe"
    },
    {
      "cell_type": "code",
      "source": [
        "#4\n",
        "import seaborn as sns\n",
        "sns.histplot(df['grad_100_value']) #histogram)"
      ],
      "metadata": {
        "id": "9csDTek_KaL9"
      },
      "id": "9csDTek_KaL9",
      "execution_count": null,
      "outputs": []
    },
    {
      "cell_type": "code",
      "source": [
        "sns.kdeplot(df['grad_100_value']) #kernel density plot"
      ],
      "metadata": {
        "id": "NNqpWQyzLV91"
      },
      "id": "NNqpWQyzLV91",
      "execution_count": null,
      "outputs": []
    },
    {
      "cell_type": "code",
      "source": [
        "sns.boxplot(df['grad_100_value']) #boxplot"
      ],
      "metadata": {
        "id": "N5ICf6dwLYcU"
      },
      "id": "N5ICf6dwLYcU",
      "execution_count": null,
      "outputs": []
    },
    {
      "cell_type": "code",
      "source": [
        "df['grad_100_value'].describe() #statistical description"
      ],
      "metadata": {
        "id": "igMbTmmaLagW"
      },
      "id": "igMbTmmaLagW",
      "execution_count": null,
      "outputs": []
    },
    {
      "cell_type": "code",
      "source": [
        "#5\n",
        "sns.kdeplot(data=df,x='grad_100_value',hue='control')"
      ],
      "metadata": {
        "id": "rlkJOewHKmQe"
      },
      "id": "rlkJOewHKmQe",
      "execution_count": null,
      "outputs": []
    },
    {
      "cell_type": "code",
      "source": [
        "sns.kdeplot(data=df,x='grad_100_value',hue='level')"
      ],
      "metadata": {
        "id": "4B_48fcxNU1H"
      },
      "id": "4B_48fcxNU1H",
      "execution_count": null,
      "outputs": []
    },
    {
      "cell_type": "markdown",
      "source": [
        "From these kernel density plots, it seems that 4-year and 2-year graduation rates are similar but 4-year graduation rates are higher. You can also see that private  not-for-profit institutions yield significantly higher graduation rates than private for-profit and public colleges."
      ],
      "metadata": {
        "id": "gGv8_JQkNe1q"
      },
      "id": "gGv8_JQkNe1q"
    },
    {
      "cell_type": "code",
      "source": [
        "df.loc[:,['control','grad_100_value']].groupby('control').describe()"
      ],
      "metadata": {
        "id": "qu4otTjNQBGH"
      },
      "id": "qu4otTjNQBGH",
      "execution_count": null,
      "outputs": []
    },
    {
      "cell_type": "code",
      "source": [
        "df.loc[:,['level','grad_100_value']].groupby('level').describe()"
      ],
      "metadata": {
        "id": "DbHBN1aoQGz9"
      },
      "id": "DbHBN1aoQGz9",
      "execution_count": null,
      "outputs": []
    },
    {
      "cell_type": "markdown",
      "source": [
        "From these results, I can confirm my observations from the kernel density plots. The mean graduation rates for 4-year colleges are ~33% while 2-year colleges are 22%. Continuing the private not-for-profit institutions have ~42% graduation rate while private-for-profit is ~29% and public being ~17%."
      ],
      "metadata": {
        "id": "BHiyh5iGQF99"
      },
      "id": "BHiyh5iGQF99"
    },
    {
      "cell_type": "code",
      "source": [
        "#6\n",
        "df['levelXcontrol']=df['level']+', '+df['control']\n",
        "sns.kdeplot(data=df,x='grad_100_value',hue='levelXcontrol')"
      ],
      "metadata": {
        "id": "F1ffj1lZR6QF"
      },
      "id": "F1ffj1lZR6QF",
      "execution_count": null,
      "outputs": []
    },
    {
      "cell_type": "code",
      "source": [
        "df.loc[:,['level','control','grad_100_value']].groupby(['level','control']).describe()\n"
      ],
      "metadata": {
        "id": "SD_l58aGSMdb"
      },
      "id": "SD_l58aGSMdb",
      "execution_count": null,
      "outputs": []
    },
    {
      "cell_type": "markdown",
      "source": [
        "By combining the interactions between level and control I am surprised by the 2 year private-for-profit institution coming out as 37%. This is very close to the highest graduation rates coming from the 2-year and 4-year private not-for-profit instituions with a 41% rate. The public college graduation rates in the 4-year program also increased with 25% graduation rate. I think these results bring about interesting findings because you can see how the institution's results differ when observing their whole picture."
      ],
      "metadata": {
        "id": "T1lhGrIeSUHQ"
      },
      "id": "T1lhGrIeSUHQ"
    },
    {
      "cell_type": "code",
      "source": [
        "#7\n",
        "sns.kdeplot(data=df,x='aid_value')"
      ],
      "metadata": {
        "id": "UTSW6d4jUYjp"
      },
      "id": "UTSW6d4jUYjp",
      "execution_count": null,
      "outputs": []
    },
    {
      "cell_type": "code",
      "source": [
        "sns.kdeplot(data=df,x='aid_value',hue='control')"
      ],
      "metadata": {
        "id": "BMcZS4jnbSm7"
      },
      "id": "BMcZS4jnbSm7",
      "execution_count": null,
      "outputs": []
    },
    {
      "cell_type": "code",
      "source": [
        "sns.kdeplot(data=df,x='aid_value',hue='level')"
      ],
      "metadata": {
        "id": "XnbajfiQbo3F"
      },
      "id": "XnbajfiQbo3F",
      "execution_count": null,
      "outputs": []
    },
    {
      "cell_type": "code",
      "source": [
        "df.loc[:,['control','aid_value']].groupby('control').describe()"
      ],
      "metadata": {
        "id": "Wb0Nsg5Ubsow"
      },
      "id": "Wb0Nsg5Ubsow",
      "execution_count": null,
      "outputs": []
    },
    {
      "cell_type": "code",
      "source": [
        "df.loc[:,['level','aid_value']].groupby('level').describe()"
      ],
      "metadata": {
        "id": "KGWFQO3XbtTW"
      },
      "id": "KGWFQO3XbtTW",
      "execution_count": null,
      "outputs": []
    },
    {
      "cell_type": "markdown",
      "source": [
        "The shape of the graph based on the control variable reveals the significant amount of student aid students receive in private not-for-profit institutions. This control piece has a noticeably different shape when looking at that graph. The shape of the level variable graph reveals that 4 year programs tend to give more student aid rather than 2 year programs. Looking at the statistical description, it confirms that 4-year programs give significantly more student aid than 2-year programs. Also it shows that the mean value for aid given by public and private for-profit institutions are very similar. Lastly, the statistical results also confirm that private not-for-profit institutions give a significant amount of student aid to students."
      ],
      "metadata": {
        "id": "NnUzKh7zBPPd"
      },
      "id": "NnUzKh7zBPPd"
    },
    {
      "cell_type": "code",
      "source": [
        "#8\n",
        "sns.scatterplot(data=df,x='aid_value',y='grad_100_value')"
      ],
      "metadata": {
        "id": "wWcMdA0tI_IH"
      },
      "id": "wWcMdA0tI_IH",
      "execution_count": null,
      "outputs": []
    },
    {
      "cell_type": "markdown",
      "source": [
        "In this first graph, the graduation rates and aid value do seem to correlate until a chunk where graduation rates are high but the aid does not move."
      ],
      "metadata": {
        "id": "LAVacZOmSmfg"
      },
      "id": "LAVacZOmSmfg"
    },
    {
      "cell_type": "code",
      "source": [
        "sns.scatterplot(data=df,x='aid_value',y='grad_100_value',hue='control')"
      ],
      "metadata": {
        "id": "CqZwmVpFJLR5"
      },
      "id": "CqZwmVpFJLR5",
      "execution_count": null,
      "outputs": []
    },
    {
      "cell_type": "code",
      "source": [
        "sns.scatterplot(data=df,x='aid_value',y='grad_100_value',hue='level')"
      ],
      "metadata": {
        "id": "mHyfTrsNJNMm"
      },
      "id": "mHyfTrsNJNMm",
      "execution_count": null,
      "outputs": []
    },
    {
      "cell_type": "markdown",
      "source": [
        "Looking at the two graphs, I can see that 4 year and private not-for-profit institutions grow consistently with aid_value and grad_100_value.This shows that there is some influence in the amount of financial aid an institution gives and their graduation rates. Regarding the other variables, there are varying graduation rates that do not seem to be increasing or decreasing concerning the aid value."
      ],
      "metadata": {
        "id": "t5dG7rQcTYOr"
      },
      "id": "t5dG7rQcTYOr"
    },
    {
      "cell_type": "markdown",
      "id": "98d34a3b-c21d-4dc9-a8d2-fb7686804ceb",
      "metadata": {
        "id": "98d34a3b-c21d-4dc9-a8d2-fb7686804ceb"
      },
      "source": [
        "**Q2.** This question uses the Airbnb data to practice making visualizations.\n",
        "\n",
        "  1. Load the `./data/airbnb_hw.csv` data with Pandas. You should have cleaned the `Price` variable in question 2, and you'll need it later for this question.\n",
        "  2. What are are the dimensions of the data? How many observations are there? What are the variables included? Use `.head()` to examine the first few rows of data.\n",
        "  3. Cross tabulate `Room Type` and `Property Type`. What patterns do you see in what kinds of rentals are available? For which kinds of properties are private rooms more common than renting the entire property?\n",
        "  4. For `Price`, make a histogram, kernel density, box plot, and a statistical description of the variable. Are the data badly scaled? Are there many outliers? Use `log` to transform price into a new variable, `price_log`, and take these steps again.\n",
        "  5. Make a scatterplot of `price_log` and `Beds`. Describe what you see. Use `.groupby()` to compute a desciption of `Price` conditional on/grouped by the number of beds. Describe any patterns you see in the average price and standard deviation in prices.\n",
        "  6. Make a scatterplot of `price_log` and `Beds`, but color the graph by `Room Type` and `Property Type`. What patterns do you see? Compute a description of `Price` conditional on `Room Type` and `Property Type`. Which Room Type and Property Type have the highest prices on average? Which have the highest standard deviation? Does the mean or median appear to be a more reliable estimate of central tendency, and explain why?\n",
        "  7. We've looked a bit at this `price_log` and `Beds` scatterplot. Use seaborn to make a `jointplot` with `kind=hex`. Where are the data actually distributed? How does it affect the way you think about the plots in 5 and 6?"
      ]
    },
    {
      "cell_type": "markdown",
      "id": "2f38f2fd-6381-481d-bba9-017f3d363426",
      "metadata": {
        "id": "2f38f2fd-6381-481d-bba9-017f3d363426"
      },
      "source": [
        "**Q3.** Open the `./data/CBO_data.pdf` file. This contains tax data for 2019, explaining where the money comes from that the U.S. Federal Government Spends in terms of taxation on individuals/families and payroll taxes (the amount that your employer pays in taxes on your wages).\n",
        "\n",
        "For some context, the Federal government ultimately spent about $4.4 trillion in 2019, which was 21% of GDP (the total monetary value of all goods and services produced within the United States). Individual Income Taxes is the amount individuals pay on their wages to the Federal government, Corporate Income Taxes is the taxes individuals pay on capital gains from investment when they sell stock or other financial instruments, Payroll Taxes is the tax your employer pays on your wages, Excises and Customs Duties are taxes on goods or services like sin taxes on cigarettes or alcohol, and Estate and Gift Taxes are taxes paid on transfers of wealth to other people.\n",
        "\n",
        "1. Get the Millions of Families and Billions of Dollars data into a .csv file and load it with Pandas.\n",
        "2. Create a bar plot of individual income taxes by income decile. Explain what the graph shows. Why are some values negative?\n",
        "3. Create a bar plot of Total Federal Taxes by income decile. Which deciles are paying net positive amounts, and which are paying net negative amounts?\n",
        "4. Create a stacked bar plot for which Total Federal Taxes is grouped by Individual Income Taxes, Payroll Taxes, Excises and Customs Duties, and Estate and Gift Taxes. How does the share of taxes paid vary across the adjusted income deciles? (Hint: Are these the kind of data you want to melt?)\n",
        "5. Below the Total line for Millions of Families and Billions of Dollars, there are data for the richest of the richest families. Plot this alongside the bars for the deciles above the Total line. Describe your results.\n",
        "6. Get the Percent Distribution data into a .csv file and load it with Pandas. Create a bar graph of Total Federal Taxes by income decile.\n",
        "7. A tax system is progressive if higher-income and wealthier individuals pay more than lower-income and less wealthy individuals, and it is regressive if the opposite is true. Is the U.S. tax system progressive in terms of amount paid? In terms of the percentage of the overall total?\n",
        "8. Do the rich pay enough in taxes? Defend your answer."
      ]
    },
    {
      "cell_type": "markdown",
      "id": "55e54a37-63fb-4df9-af65-81ee53ae00fe",
      "metadata": {
        "id": "55e54a37-63fb-4df9-af65-81ee53ae00fe"
      },
      "source": [
        "**Q4.** Go to https://data.cms.gov/search.\n",
        "1. Pick a dataset about something you are interested in. Download the data and data dictionary. If you really can't decide, you can always use this one: https://data.cms.gov/medicare-current-beneficiary-survey-mcbs/medicare-current-beneficiary-survey-data\n",
        "3. Does the data dictionary document how missings are handled? For categorical variables, does it describe the possible values and missing value codes? For the numeric variables, does it describe how missing values are handled? Summarize your opinion of the data dictionary.\n",
        "4. Pick out a few interesting variables, and explain why you find them jointly interesting. Clean those variables, documenting your choices by commenting in the code or in a markdown chunk in a notebook.\n",
        "5. For the variables you select, make a boxplot for each numeric variable and a bar graph for each categorical variable. Do you see any outliers?\n",
        "6. Create a histogram or kernel density plot, and explain what you see. Do the results require any transformations to rescale them?\n",
        "7. Create a scatter plot, and describe the relationship you see.\n",
        "8. Create a table (cross tabulation, variance-covariance, or a `.describe()` five-number summary), and explain what you see."
      ]
    },
    {
      "cell_type": "markdown",
      "source": [
        "1"
      ],
      "metadata": {
        "id": "6Jcy3iCR0gQp"
      },
      "id": "6Jcy3iCR0gQp"
    },
    {
      "cell_type": "code",
      "source": [
        "from google.colab import files\n",
        "uploaded = files.upload()"
      ],
      "metadata": {
        "colab": {
          "base_uri": "https://localhost:8080/",
          "height": 73
        },
        "id": "04FSlxP8oMce",
        "outputId": "2799edd1-5178-4198-be70-653ca2dd5cae"
      },
      "id": "04FSlxP8oMce",
      "execution_count": 118,
      "outputs": [
        {
          "output_type": "display_data",
          "data": {
            "text/plain": [
              "<IPython.core.display.HTML object>"
            ],
            "text/html": [
              "\n",
              "     <input type=\"file\" id=\"files-2edaa84b-140b-42b1-b797-abd596f5ed15\" name=\"files[]\" multiple disabled\n",
              "        style=\"border:none\" />\n",
              "     <output id=\"result-2edaa84b-140b-42b1-b797-abd596f5ed15\">\n",
              "      Upload widget is only available when the cell has been executed in the\n",
              "      current browser session. Please rerun this cell to enable.\n",
              "      </output>\n",
              "      <script>// Copyright 2017 Google LLC\n",
              "//\n",
              "// Licensed under the Apache License, Version 2.0 (the \"License\");\n",
              "// you may not use this file except in compliance with the License.\n",
              "// You may obtain a copy of the License at\n",
              "//\n",
              "//      http://www.apache.org/licenses/LICENSE-2.0\n",
              "//\n",
              "// Unless required by applicable law or agreed to in writing, software\n",
              "// distributed under the License is distributed on an \"AS IS\" BASIS,\n",
              "// WITHOUT WARRANTIES OR CONDITIONS OF ANY KIND, either express or implied.\n",
              "// See the License for the specific language governing permissions and\n",
              "// limitations under the License.\n",
              "\n",
              "/**\n",
              " * @fileoverview Helpers for google.colab Python module.\n",
              " */\n",
              "(function(scope) {\n",
              "function span(text, styleAttributes = {}) {\n",
              "  const element = document.createElement('span');\n",
              "  element.textContent = text;\n",
              "  for (const key of Object.keys(styleAttributes)) {\n",
              "    element.style[key] = styleAttributes[key];\n",
              "  }\n",
              "  return element;\n",
              "}\n",
              "\n",
              "// Max number of bytes which will be uploaded at a time.\n",
              "const MAX_PAYLOAD_SIZE = 100 * 1024;\n",
              "\n",
              "function _uploadFiles(inputId, outputId) {\n",
              "  const steps = uploadFilesStep(inputId, outputId);\n",
              "  const outputElement = document.getElementById(outputId);\n",
              "  // Cache steps on the outputElement to make it available for the next call\n",
              "  // to uploadFilesContinue from Python.\n",
              "  outputElement.steps = steps;\n",
              "\n",
              "  return _uploadFilesContinue(outputId);\n",
              "}\n",
              "\n",
              "// This is roughly an async generator (not supported in the browser yet),\n",
              "// where there are multiple asynchronous steps and the Python side is going\n",
              "// to poll for completion of each step.\n",
              "// This uses a Promise to block the python side on completion of each step,\n",
              "// then passes the result of the previous step as the input to the next step.\n",
              "function _uploadFilesContinue(outputId) {\n",
              "  const outputElement = document.getElementById(outputId);\n",
              "  const steps = outputElement.steps;\n",
              "\n",
              "  const next = steps.next(outputElement.lastPromiseValue);\n",
              "  return Promise.resolve(next.value.promise).then((value) => {\n",
              "    // Cache the last promise value to make it available to the next\n",
              "    // step of the generator.\n",
              "    outputElement.lastPromiseValue = value;\n",
              "    return next.value.response;\n",
              "  });\n",
              "}\n",
              "\n",
              "/**\n",
              " * Generator function which is called between each async step of the upload\n",
              " * process.\n",
              " * @param {string} inputId Element ID of the input file picker element.\n",
              " * @param {string} outputId Element ID of the output display.\n",
              " * @return {!Iterable<!Object>} Iterable of next steps.\n",
              " */\n",
              "function* uploadFilesStep(inputId, outputId) {\n",
              "  const inputElement = document.getElementById(inputId);\n",
              "  inputElement.disabled = false;\n",
              "\n",
              "  const outputElement = document.getElementById(outputId);\n",
              "  outputElement.innerHTML = '';\n",
              "\n",
              "  const pickedPromise = new Promise((resolve) => {\n",
              "    inputElement.addEventListener('change', (e) => {\n",
              "      resolve(e.target.files);\n",
              "    });\n",
              "  });\n",
              "\n",
              "  const cancel = document.createElement('button');\n",
              "  inputElement.parentElement.appendChild(cancel);\n",
              "  cancel.textContent = 'Cancel upload';\n",
              "  const cancelPromise = new Promise((resolve) => {\n",
              "    cancel.onclick = () => {\n",
              "      resolve(null);\n",
              "    };\n",
              "  });\n",
              "\n",
              "  // Wait for the user to pick the files.\n",
              "  const files = yield {\n",
              "    promise: Promise.race([pickedPromise, cancelPromise]),\n",
              "    response: {\n",
              "      action: 'starting',\n",
              "    }\n",
              "  };\n",
              "\n",
              "  cancel.remove();\n",
              "\n",
              "  // Disable the input element since further picks are not allowed.\n",
              "  inputElement.disabled = true;\n",
              "\n",
              "  if (!files) {\n",
              "    return {\n",
              "      response: {\n",
              "        action: 'complete',\n",
              "      }\n",
              "    };\n",
              "  }\n",
              "\n",
              "  for (const file of files) {\n",
              "    const li = document.createElement('li');\n",
              "    li.append(span(file.name, {fontWeight: 'bold'}));\n",
              "    li.append(span(\n",
              "        `(${file.type || 'n/a'}) - ${file.size} bytes, ` +\n",
              "        `last modified: ${\n",
              "            file.lastModifiedDate ? file.lastModifiedDate.toLocaleDateString() :\n",
              "                                    'n/a'} - `));\n",
              "    const percent = span('0% done');\n",
              "    li.appendChild(percent);\n",
              "\n",
              "    outputElement.appendChild(li);\n",
              "\n",
              "    const fileDataPromise = new Promise((resolve) => {\n",
              "      const reader = new FileReader();\n",
              "      reader.onload = (e) => {\n",
              "        resolve(e.target.result);\n",
              "      };\n",
              "      reader.readAsArrayBuffer(file);\n",
              "    });\n",
              "    // Wait for the data to be ready.\n",
              "    let fileData = yield {\n",
              "      promise: fileDataPromise,\n",
              "      response: {\n",
              "        action: 'continue',\n",
              "      }\n",
              "    };\n",
              "\n",
              "    // Use a chunked sending to avoid message size limits. See b/62115660.\n",
              "    let position = 0;\n",
              "    do {\n",
              "      const length = Math.min(fileData.byteLength - position, MAX_PAYLOAD_SIZE);\n",
              "      const chunk = new Uint8Array(fileData, position, length);\n",
              "      position += length;\n",
              "\n",
              "      const base64 = btoa(String.fromCharCode.apply(null, chunk));\n",
              "      yield {\n",
              "        response: {\n",
              "          action: 'append',\n",
              "          file: file.name,\n",
              "          data: base64,\n",
              "        },\n",
              "      };\n",
              "\n",
              "      let percentDone = fileData.byteLength === 0 ?\n",
              "          100 :\n",
              "          Math.round((position / fileData.byteLength) * 100);\n",
              "      percent.textContent = `${percentDone}% done`;\n",
              "\n",
              "    } while (position < fileData.byteLength);\n",
              "  }\n",
              "\n",
              "  // All done.\n",
              "  yield {\n",
              "    response: {\n",
              "      action: 'complete',\n",
              "    }\n",
              "  };\n",
              "}\n",
              "\n",
              "scope.google = scope.google || {};\n",
              "scope.google.colab = scope.google.colab || {};\n",
              "scope.google.colab._files = {\n",
              "  _uploadFiles,\n",
              "  _uploadFilesContinue,\n",
              "};\n",
              "})(self);\n",
              "</script> "
            ]
          },
          "metadata": {}
        },
        {
          "output_type": "stream",
          "name": "stdout",
          "text": [
            "Saving Carbon Emission.csv to Carbon Emission (3).csv\n"
          ]
        }
      ]
    },
    {
      "cell_type": "code",
      "source": [
        "import pandas as pd\n",
        "df = pd.read_csv('Carbon Emission.csv')"
      ],
      "metadata": {
        "id": "EGXpkPwmokfO"
      },
      "id": "EGXpkPwmokfO",
      "execution_count": 119,
      "outputs": []
    },
    {
      "cell_type": "code",
      "source": [
        "print(df)"
      ],
      "metadata": {
        "colab": {
          "base_uri": "https://localhost:8080/"
        },
        "id": "o13rSVO7KiJD",
        "outputId": "af54f5a1-e96d-460a-fe6b-c60d6b6efa85"
      },
      "id": "o13rSVO7KiJD",
      "execution_count": 120,
      "outputs": [
        {
          "output_type": "stream",
          "name": "stdout",
          "text": [
            "        Body Type     Sex         Diet How Often Shower Heating Energy Source  \\\n",
            "0      overweight  female  pescatarian            daily                  coal   \n",
            "1           obese  female   vegetarian  less frequently           natural gas   \n",
            "2      overweight    male     omnivore  more frequently                  wood   \n",
            "3      overweight    male     omnivore      twice a day                  wood   \n",
            "4           obese  female   vegetarian            daily                  coal   \n",
            "...           ...     ...          ...              ...                   ...   \n",
            "9995        obese    male     omnivore      twice a day                  coal   \n",
            "9996       normal  female        vegan      twice a day                  coal   \n",
            "9997   overweight  female   vegetarian            daily           electricity   \n",
            "9998  underweight    male        vegan  more frequently                  coal   \n",
            "9999        obese    male  pescatarian      twice a day                  wood   \n",
            "\n",
            "         Transport Vehicle Type Social Activity  Monthly Grocery Bill  \\\n",
            "0           public          NaN           often                   230   \n",
            "1     walk/bicycle          NaN           often                   114   \n",
            "2          private       petrol           never                   138   \n",
            "3     walk/bicycle          NaN       sometimes                   157   \n",
            "4          private       diesel           often                   266   \n",
            "...            ...          ...             ...                   ...   \n",
            "9995       private       hybrid       sometimes                   230   \n",
            "9996       private          lpg           never                   234   \n",
            "9997  walk/bicycle          NaN       sometimes                   298   \n",
            "9998       private       petrol           often                   179   \n",
            "9999       private     electric       sometimes                   115   \n",
            "\n",
            "     Frequency of Traveling by Air  Vehicle Monthly Distance Km  \\\n",
            "0                       frequently                          210   \n",
            "1                           rarely                            9   \n",
            "2                            never                         2472   \n",
            "3                           rarely                           74   \n",
            "4                  very frequently                         8457   \n",
            "...                            ...                          ...   \n",
            "9995                         never                          268   \n",
            "9996                    frequently                         5316   \n",
            "9997               very frequently                           96   \n",
            "9998                        rarely                         8688   \n",
            "9999                         never                         9952   \n",
            "\n",
            "     Waste Bag Size  Waste Bag Weekly Count  How Long TV PC Daily Hour  \\\n",
            "0             large                       4                          7   \n",
            "1       extra large                       3                          9   \n",
            "2             small                       1                         14   \n",
            "3            medium                       3                         20   \n",
            "4             large                       1                          3   \n",
            "...             ...                     ...                        ...   \n",
            "9995         medium                       5                         12   \n",
            "9996    extra large                       3                         14   \n",
            "9997    extra large                       5                         11   \n",
            "9998         medium                       5                         19   \n",
            "9999          small                       4                         11   \n",
            "\n",
            "      How Many New Clothes Monthly  How Long Internet Daily Hour  \\\n",
            "0                               26                             1   \n",
            "1                               38                             5   \n",
            "2                               47                             6   \n",
            "3                                5                             7   \n",
            "4                                5                             6   \n",
            "...                            ...                           ...   \n",
            "9995                            27                             9   \n",
            "9996                             8                            24   \n",
            "9997                             5                            24   \n",
            "9998                            14                             5   \n",
            "9999                             6                             0   \n",
            "\n",
            "     Energy efficiency                               Recycling  \\\n",
            "0                   No                               ['Metal']   \n",
            "1                   No                               ['Metal']   \n",
            "2            Sometimes                               ['Metal']   \n",
            "3            Sometimes  ['Paper', 'Plastic', 'Glass', 'Metal']   \n",
            "4                  Yes                               ['Paper']   \n",
            "...                ...                                     ...   \n",
            "9995               Yes                                      []   \n",
            "9996         Sometimes                    ['Paper', 'Plastic']   \n",
            "9997               Yes           ['Paper', 'Plastic', 'Metal']   \n",
            "9998         Sometimes                      ['Paper', 'Metal']   \n",
            "9999         Sometimes           ['Plastic', 'Glass', 'Metal']   \n",
            "\n",
            "                                     Cooking_With  CarbonEmission  \n",
            "0                               ['Stove', 'Oven']            2238  \n",
            "1                          ['Stove', 'Microwave']            1892  \n",
            "2                           ['Oven', 'Microwave']            2595  \n",
            "3              ['Microwave', 'Grill', 'Airfryer']            1074  \n",
            "4                                        ['Oven']            4743  \n",
            "...                                           ...             ...  \n",
            "9995                                ['Microwave']            2408  \n",
            "9996                       ['Stove', 'Microwave']            3084  \n",
            "9997           ['Microwave', 'Grill', 'Airfryer']            2377  \n",
            "9998  ['Stove', 'Microwave', 'Grill', 'Airfryer']            4574  \n",
            "9999                ['Oven', 'Grill', 'Airfryer']             826  \n",
            "\n",
            "[10000 rows x 20 columns]\n"
          ]
        }
      ]
    },
    {
      "cell_type": "code",
      "source": [
        "from google.colab import files\n",
        "uploaded = files.upload()"
      ],
      "metadata": {
        "id": "TZ8vOZjNow1J",
        "colab": {
          "base_uri": "https://localhost:8080/",
          "height": 325
        },
        "outputId": "dfca561f-ce95-4244-b134-a49614e34272"
      },
      "id": "TZ8vOZjNow1J",
      "execution_count": 121,
      "outputs": [
        {
          "output_type": "display_data",
          "data": {
            "text/plain": [
              "<IPython.core.display.HTML object>"
            ],
            "text/html": [
              "\n",
              "     <input type=\"file\" id=\"files-ad6c5006-08c5-434f-b181-4c23dfa0e0f5\" name=\"files[]\" multiple disabled\n",
              "        style=\"border:none\" />\n",
              "     <output id=\"result-ad6c5006-08c5-434f-b181-4c23dfa0e0f5\">\n",
              "      Upload widget is only available when the cell has been executed in the\n",
              "      current browser session. Please rerun this cell to enable.\n",
              "      </output>\n",
              "      <script>// Copyright 2017 Google LLC\n",
              "//\n",
              "// Licensed under the Apache License, Version 2.0 (the \"License\");\n",
              "// you may not use this file except in compliance with the License.\n",
              "// You may obtain a copy of the License at\n",
              "//\n",
              "//      http://www.apache.org/licenses/LICENSE-2.0\n",
              "//\n",
              "// Unless required by applicable law or agreed to in writing, software\n",
              "// distributed under the License is distributed on an \"AS IS\" BASIS,\n",
              "// WITHOUT WARRANTIES OR CONDITIONS OF ANY KIND, either express or implied.\n",
              "// See the License for the specific language governing permissions and\n",
              "// limitations under the License.\n",
              "\n",
              "/**\n",
              " * @fileoverview Helpers for google.colab Python module.\n",
              " */\n",
              "(function(scope) {\n",
              "function span(text, styleAttributes = {}) {\n",
              "  const element = document.createElement('span');\n",
              "  element.textContent = text;\n",
              "  for (const key of Object.keys(styleAttributes)) {\n",
              "    element.style[key] = styleAttributes[key];\n",
              "  }\n",
              "  return element;\n",
              "}\n",
              "\n",
              "// Max number of bytes which will be uploaded at a time.\n",
              "const MAX_PAYLOAD_SIZE = 100 * 1024;\n",
              "\n",
              "function _uploadFiles(inputId, outputId) {\n",
              "  const steps = uploadFilesStep(inputId, outputId);\n",
              "  const outputElement = document.getElementById(outputId);\n",
              "  // Cache steps on the outputElement to make it available for the next call\n",
              "  // to uploadFilesContinue from Python.\n",
              "  outputElement.steps = steps;\n",
              "\n",
              "  return _uploadFilesContinue(outputId);\n",
              "}\n",
              "\n",
              "// This is roughly an async generator (not supported in the browser yet),\n",
              "// where there are multiple asynchronous steps and the Python side is going\n",
              "// to poll for completion of each step.\n",
              "// This uses a Promise to block the python side on completion of each step,\n",
              "// then passes the result of the previous step as the input to the next step.\n",
              "function _uploadFilesContinue(outputId) {\n",
              "  const outputElement = document.getElementById(outputId);\n",
              "  const steps = outputElement.steps;\n",
              "\n",
              "  const next = steps.next(outputElement.lastPromiseValue);\n",
              "  return Promise.resolve(next.value.promise).then((value) => {\n",
              "    // Cache the last promise value to make it available to the next\n",
              "    // step of the generator.\n",
              "    outputElement.lastPromiseValue = value;\n",
              "    return next.value.response;\n",
              "  });\n",
              "}\n",
              "\n",
              "/**\n",
              " * Generator function which is called between each async step of the upload\n",
              " * process.\n",
              " * @param {string} inputId Element ID of the input file picker element.\n",
              " * @param {string} outputId Element ID of the output display.\n",
              " * @return {!Iterable<!Object>} Iterable of next steps.\n",
              " */\n",
              "function* uploadFilesStep(inputId, outputId) {\n",
              "  const inputElement = document.getElementById(inputId);\n",
              "  inputElement.disabled = false;\n",
              "\n",
              "  const outputElement = document.getElementById(outputId);\n",
              "  outputElement.innerHTML = '';\n",
              "\n",
              "  const pickedPromise = new Promise((resolve) => {\n",
              "    inputElement.addEventListener('change', (e) => {\n",
              "      resolve(e.target.files);\n",
              "    });\n",
              "  });\n",
              "\n",
              "  const cancel = document.createElement('button');\n",
              "  inputElement.parentElement.appendChild(cancel);\n",
              "  cancel.textContent = 'Cancel upload';\n",
              "  const cancelPromise = new Promise((resolve) => {\n",
              "    cancel.onclick = () => {\n",
              "      resolve(null);\n",
              "    };\n",
              "  });\n",
              "\n",
              "  // Wait for the user to pick the files.\n",
              "  const files = yield {\n",
              "    promise: Promise.race([pickedPromise, cancelPromise]),\n",
              "    response: {\n",
              "      action: 'starting',\n",
              "    }\n",
              "  };\n",
              "\n",
              "  cancel.remove();\n",
              "\n",
              "  // Disable the input element since further picks are not allowed.\n",
              "  inputElement.disabled = true;\n",
              "\n",
              "  if (!files) {\n",
              "    return {\n",
              "      response: {\n",
              "        action: 'complete',\n",
              "      }\n",
              "    };\n",
              "  }\n",
              "\n",
              "  for (const file of files) {\n",
              "    const li = document.createElement('li');\n",
              "    li.append(span(file.name, {fontWeight: 'bold'}));\n",
              "    li.append(span(\n",
              "        `(${file.type || 'n/a'}) - ${file.size} bytes, ` +\n",
              "        `last modified: ${\n",
              "            file.lastModifiedDate ? file.lastModifiedDate.toLocaleDateString() :\n",
              "                                    'n/a'} - `));\n",
              "    const percent = span('0% done');\n",
              "    li.appendChild(percent);\n",
              "\n",
              "    outputElement.appendChild(li);\n",
              "\n",
              "    const fileDataPromise = new Promise((resolve) => {\n",
              "      const reader = new FileReader();\n",
              "      reader.onload = (e) => {\n",
              "        resolve(e.target.result);\n",
              "      };\n",
              "      reader.readAsArrayBuffer(file);\n",
              "    });\n",
              "    // Wait for the data to be ready.\n",
              "    let fileData = yield {\n",
              "      promise: fileDataPromise,\n",
              "      response: {\n",
              "        action: 'continue',\n",
              "      }\n",
              "    };\n",
              "\n",
              "    // Use a chunked sending to avoid message size limits. See b/62115660.\n",
              "    let position = 0;\n",
              "    do {\n",
              "      const length = Math.min(fileData.byteLength - position, MAX_PAYLOAD_SIZE);\n",
              "      const chunk = new Uint8Array(fileData, position, length);\n",
              "      position += length;\n",
              "\n",
              "      const base64 = btoa(String.fromCharCode.apply(null, chunk));\n",
              "      yield {\n",
              "        response: {\n",
              "          action: 'append',\n",
              "          file: file.name,\n",
              "          data: base64,\n",
              "        },\n",
              "      };\n",
              "\n",
              "      let percentDone = fileData.byteLength === 0 ?\n",
              "          100 :\n",
              "          Math.round((position / fileData.byteLength) * 100);\n",
              "      percent.textContent = `${percentDone}% done`;\n",
              "\n",
              "    } while (position < fileData.byteLength);\n",
              "  }\n",
              "\n",
              "  // All done.\n",
              "  yield {\n",
              "    response: {\n",
              "      action: 'complete',\n",
              "    }\n",
              "  };\n",
              "}\n",
              "\n",
              "scope.google = scope.google || {};\n",
              "scope.google.colab = scope.google.colab || {};\n",
              "scope.google.colab._files = {\n",
              "  _uploadFiles,\n",
              "  _uploadFilesContinue,\n",
              "};\n",
              "})(self);\n",
              "</script> "
            ]
          },
          "metadata": {}
        },
        {
          "output_type": "error",
          "ename": "KeyboardInterrupt",
          "evalue": "",
          "traceback": [
            "\u001b[0;31m---------------------------------------------------------------------------\u001b[0m",
            "\u001b[0;31mKeyboardInterrupt\u001b[0m                         Traceback (most recent call last)",
            "\u001b[0;32m<ipython-input-121-21dc3c638f66>\u001b[0m in \u001b[0;36m<cell line: 2>\u001b[0;34m()\u001b[0m\n\u001b[1;32m      1\u001b[0m \u001b[0;32mfrom\u001b[0m \u001b[0mgoogle\u001b[0m\u001b[0;34m.\u001b[0m\u001b[0mcolab\u001b[0m \u001b[0;32mimport\u001b[0m \u001b[0mfiles\u001b[0m\u001b[0;34m\u001b[0m\u001b[0;34m\u001b[0m\u001b[0m\n\u001b[0;32m----> 2\u001b[0;31m \u001b[0muploaded\u001b[0m \u001b[0;34m=\u001b[0m \u001b[0mfiles\u001b[0m\u001b[0;34m.\u001b[0m\u001b[0mupload\u001b[0m\u001b[0;34m(\u001b[0m\u001b[0;34m)\u001b[0m\u001b[0;34m\u001b[0m\u001b[0;34m\u001b[0m\u001b[0m\n\u001b[0m",
            "\u001b[0;32m/usr/local/lib/python3.10/dist-packages/google/colab/files.py\u001b[0m in \u001b[0;36mupload\u001b[0;34m()\u001b[0m\n\u001b[1;32m     67\u001b[0m   \"\"\"\n\u001b[1;32m     68\u001b[0m \u001b[0;34m\u001b[0m\u001b[0m\n\u001b[0;32m---> 69\u001b[0;31m   \u001b[0muploaded_files\u001b[0m \u001b[0;34m=\u001b[0m \u001b[0m_upload_files\u001b[0m\u001b[0;34m(\u001b[0m\u001b[0mmultiple\u001b[0m\u001b[0;34m=\u001b[0m\u001b[0;32mTrue\u001b[0m\u001b[0;34m)\u001b[0m\u001b[0;34m\u001b[0m\u001b[0;34m\u001b[0m\u001b[0m\n\u001b[0m\u001b[1;32m     70\u001b[0m   \u001b[0;31m# Mapping from original filename to filename as saved locally.\u001b[0m\u001b[0;34m\u001b[0m\u001b[0;34m\u001b[0m\u001b[0m\n\u001b[1;32m     71\u001b[0m   \u001b[0mlocal_filenames\u001b[0m \u001b[0;34m=\u001b[0m \u001b[0mdict\u001b[0m\u001b[0;34m(\u001b[0m\u001b[0;34m)\u001b[0m\u001b[0;34m\u001b[0m\u001b[0;34m\u001b[0m\u001b[0m\n",
            "\u001b[0;32m/usr/local/lib/python3.10/dist-packages/google/colab/files.py\u001b[0m in \u001b[0;36m_upload_files\u001b[0;34m(multiple)\u001b[0m\n\u001b[1;32m    154\u001b[0m \u001b[0;34m\u001b[0m\u001b[0m\n\u001b[1;32m    155\u001b[0m   \u001b[0;31m# First result is always an indication that the file picker has completed.\u001b[0m\u001b[0;34m\u001b[0m\u001b[0;34m\u001b[0m\u001b[0m\n\u001b[0;32m--> 156\u001b[0;31m   result = _output.eval_js(\n\u001b[0m\u001b[1;32m    157\u001b[0m       'google.colab._files._uploadFiles(\"{input_id}\", \"{output_id}\")'.format(\n\u001b[1;32m    158\u001b[0m           \u001b[0minput_id\u001b[0m\u001b[0;34m=\u001b[0m\u001b[0minput_id\u001b[0m\u001b[0;34m,\u001b[0m \u001b[0moutput_id\u001b[0m\u001b[0;34m=\u001b[0m\u001b[0moutput_id\u001b[0m\u001b[0;34m\u001b[0m\u001b[0;34m\u001b[0m\u001b[0m\n",
            "\u001b[0;32m/usr/local/lib/python3.10/dist-packages/google/colab/output/_js.py\u001b[0m in \u001b[0;36meval_js\u001b[0;34m(script, ignore_result, timeout_sec)\u001b[0m\n\u001b[1;32m     38\u001b[0m   \u001b[0;32mif\u001b[0m \u001b[0mignore_result\u001b[0m\u001b[0;34m:\u001b[0m\u001b[0;34m\u001b[0m\u001b[0;34m\u001b[0m\u001b[0m\n\u001b[1;32m     39\u001b[0m     \u001b[0;32mreturn\u001b[0m\u001b[0;34m\u001b[0m\u001b[0;34m\u001b[0m\u001b[0m\n\u001b[0;32m---> 40\u001b[0;31m   \u001b[0;32mreturn\u001b[0m \u001b[0m_message\u001b[0m\u001b[0;34m.\u001b[0m\u001b[0mread_reply_from_input\u001b[0m\u001b[0;34m(\u001b[0m\u001b[0mrequest_id\u001b[0m\u001b[0;34m,\u001b[0m \u001b[0mtimeout_sec\u001b[0m\u001b[0;34m)\u001b[0m\u001b[0;34m\u001b[0m\u001b[0;34m\u001b[0m\u001b[0m\n\u001b[0m\u001b[1;32m     41\u001b[0m \u001b[0;34m\u001b[0m\u001b[0m\n\u001b[1;32m     42\u001b[0m \u001b[0;34m\u001b[0m\u001b[0m\n",
            "\u001b[0;32m/usr/local/lib/python3.10/dist-packages/google/colab/_message.py\u001b[0m in \u001b[0;36mread_reply_from_input\u001b[0;34m(message_id, timeout_sec)\u001b[0m\n\u001b[1;32m     94\u001b[0m     \u001b[0mreply\u001b[0m \u001b[0;34m=\u001b[0m \u001b[0m_read_next_input_message\u001b[0m\u001b[0;34m(\u001b[0m\u001b[0;34m)\u001b[0m\u001b[0;34m\u001b[0m\u001b[0;34m\u001b[0m\u001b[0m\n\u001b[1;32m     95\u001b[0m     \u001b[0;32mif\u001b[0m \u001b[0mreply\u001b[0m \u001b[0;34m==\u001b[0m \u001b[0m_NOT_READY\u001b[0m \u001b[0;32mor\u001b[0m \u001b[0;32mnot\u001b[0m \u001b[0misinstance\u001b[0m\u001b[0;34m(\u001b[0m\u001b[0mreply\u001b[0m\u001b[0;34m,\u001b[0m \u001b[0mdict\u001b[0m\u001b[0;34m)\u001b[0m\u001b[0;34m:\u001b[0m\u001b[0;34m\u001b[0m\u001b[0;34m\u001b[0m\u001b[0m\n\u001b[0;32m---> 96\u001b[0;31m       \u001b[0mtime\u001b[0m\u001b[0;34m.\u001b[0m\u001b[0msleep\u001b[0m\u001b[0;34m(\u001b[0m\u001b[0;36m0.025\u001b[0m\u001b[0;34m)\u001b[0m\u001b[0;34m\u001b[0m\u001b[0;34m\u001b[0m\u001b[0m\n\u001b[0m\u001b[1;32m     97\u001b[0m       \u001b[0;32mcontinue\u001b[0m\u001b[0;34m\u001b[0m\u001b[0;34m\u001b[0m\u001b[0m\n\u001b[1;32m     98\u001b[0m     if (\n",
            "\u001b[0;31mKeyboardInterrupt\u001b[0m: "
          ]
        }
      ]
    },
    {
      "cell_type": "code",
      "source": [
        "!pip install python-docx"
      ],
      "metadata": {
        "id": "4Ue98vzuxTBf"
      },
      "id": "4Ue98vzuxTBf",
      "execution_count": null,
      "outputs": []
    },
    {
      "cell_type": "code",
      "source": [
        "from docx import Document\n",
        "df_dictionary = Document('carbonemissions_datadictionary.docx')"
      ],
      "metadata": {
        "id": "K_z-wsw5xbz9"
      },
      "id": "K_z-wsw5xbz9",
      "execution_count": null,
      "outputs": []
    },
    {
      "cell_type": "code",
      "source": [
        "for paragraph in df_dictionary.paragraphs:\n",
        "    print(paragraph.text)"
      ],
      "metadata": {
        "colab": {
          "base_uri": "https://localhost:8080/"
        },
        "id": "NLPAWGYFxl4w",
        "outputId": "404e1424-f200-43cd-c37d-61f14b29b072"
      },
      "id": "NLPAWGYFxl4w",
      "execution_count": null,
      "outputs": [
        {
          "output_type": "stream",
          "name": "stdout",
          "text": [
            "Features:\n",
            "'Body Type': Body type.\n",
            "'Sex': Gender.\n",
            "' Diet': Diet.\n",
            "'How Often Shower': Frequency of showering\n",
            "'Heating Energy Source': Residential heating energy\n",
            "'Transport': Transportation preference.\n",
            "'Vehicle Type': Vehicle fuel type.\n",
            "'Social Activity': Frequency of participating in social activities.\n",
            "'Monthly Grocery Bill': Monthly amount spent on groceries, in dollars.\n",
            "'Frequency of Traveling by Air': Frequency of using aircraft in the last month.\n",
            "'Vehicle Monthly Distance Km': The kilometers traveled by vehicle in the last month.\n",
            "'Waste Bag Size': Size of the garbage bag\n",
            "'Waste Bag Weekly Count': The amount of garbage thrown away in the last week.\n",
            "'How Long TV PC Daily Hour': Daily time spent in front of TV or PC.\n",
            "'How Many New Clothes Monthly': Number of clothes purchased monthly.\n",
            "'How Long Internet Daily Hour': Time spent on the Internet daily.\n",
            "'Energy efficiency': Whether or not you care about purchasing energy efficient devices.\n",
            "'Recycling': The wastes it recycles.\n",
            "'Cooking_With': Devices used in cooking\n",
            "'CarbonEmission': Dependent variable, total carbon emissions.\n",
            "\n"
          ]
        }
      ]
    },
    {
      "cell_type": "markdown",
      "source": [
        "#2\n",
        "In my opinion, this dataset dictionary is very sparse. The only information that is given is the explanation of the column names that are included in the data. Therefore there is no documentation of how missing variables are handled and no description of the possible values and missing value codes. I got this dataset from Kaggle and I was continuing researching in hopes to find other datasets with a stronger data dictionary. However, there were very few datasets even including a data dictionary. In conclusion, I did find it helpful because I was able to better understand the variable names."
      ],
      "metadata": {
        "id": "Q1bJQ4oW0RX8"
      },
      "id": "Q1bJQ4oW0RX8"
    },
    {
      "cell_type": "markdown",
      "source": [
        "3"
      ],
      "metadata": {
        "id": "0anoqOR72Rv0"
      },
      "id": "0anoqOR72Rv0"
    },
    {
      "cell_type": "markdown",
      "source": [
        "I found the Monthly Grocery Bill an interesting variable because I never thought about how much food you buy each month as something that affects a person's carbon footprint. What I also think is interesting about these values is that they variable doesn't specify personal grocery bills. This bill could be including a partner, children, etc."
      ],
      "metadata": {
        "id": "TyGjfqK5bGeJ"
      },
      "id": "TyGjfqK5bGeJ"
    },
    {
      "cell_type": "code",
      "source": [
        "monthly_grocery_bill = df['Monthly Grocery Bill']\n",
        "print(monthly_grocery_bill.unique())\n",
        "print('Total missing: ',sum(monthly_grocery_bill.isnull()))\n",
        "#no missing values"
      ],
      "metadata": {
        "id": "ljAYp1vQJzD0"
      },
      "id": "ljAYp1vQJzD0",
      "execution_count": null,
      "outputs": []
    },
    {
      "cell_type": "code",
      "source": [
        "#there is a lot of variation in these numbers so I think it would be beneficial\n",
        "# to combine them by ranges of $50 to make the data more readible\n",
        "df['Monthly Grocery Bill'] = pd.to_numeric(df['Monthly Grocery Bill'], errors='coerce')"
      ],
      "metadata": {
        "id": "UpOryyYLLhK4"
      },
      "id": "UpOryyYLLhK4",
      "execution_count": 128,
      "outputs": []
    },
    {
      "cell_type": "code",
      "source": [
        "#make a new Monthly grocery column that puts the average bill into price ranges\n",
        "bins = [0, 50, 100, 150, 200, 250, float('inf')]\n",
        "labels = ['0-50','51-100','101-150','151-200','201-250', '251-300']\n",
        "df['Monthly_Grocery_Bill'] = pd.cut(df['Monthly Grocery Bill'], bins=bins, labels=labels, right=False)\n",
        "df.drop(columns=['Monthly Grocery Bill'], inplace=True)"
      ],
      "metadata": {
        "id": "MYxGBRK6NXhy"
      },
      "id": "MYxGBRK6NXhy",
      "execution_count": 129,
      "outputs": []
    },
    {
      "cell_type": "code",
      "source": [
        "print(df['Monthly_Grocery_Bill'])"
      ],
      "metadata": {
        "colab": {
          "base_uri": "https://localhost:8080/"
        },
        "id": "tGplNlmeWSc-",
        "outputId": "e0674e99-685a-439c-f3d6-a11cc6e7ba9e"
      },
      "id": "tGplNlmeWSc-",
      "execution_count": 130,
      "outputs": [
        {
          "output_type": "stream",
          "name": "stdout",
          "text": [
            "0       201-250\n",
            "1       101-150\n",
            "2       101-150\n",
            "3       151-200\n",
            "4       251-300\n",
            "         ...   \n",
            "9995    201-250\n",
            "9996    201-250\n",
            "9997    251-300\n",
            "9998    151-200\n",
            "9999    101-150\n",
            "Name: Monthly_Grocery_Bill, Length: 10000, dtype: category\n",
            "Categories (6, object): ['0-50' < '51-100' < '101-150' < '151-200' < '201-250' < '251-300']\n"
          ]
        }
      ]
    },
    {
      "cell_type": "code",
      "source": [
        "recycle = df['Recycling']\n",
        "recycle.unique()\n",
        "recycle.value_counts()\n",
        "#I want to change all the missing values in the Recycling column to \"NaN\",\n",
        "# I think this makes it easier to read and interpret the results of this column"
      ],
      "metadata": {
        "id": "ZvtkX8XOW_Bk"
      },
      "id": "ZvtkX8XOW_Bk",
      "execution_count": null,
      "outputs": []
    },
    {
      "cell_type": "code",
      "source": [
        "recycle = recycle.replace(['[]'],np.nan)\n",
        "df['Recycling'] = recycle\n",
        "df.head()"
      ],
      "metadata": {
        "id": "m-b_kGv3YT93"
      },
      "id": "m-b_kGv3YT93",
      "execution_count": null,
      "outputs": []
    },
    {
      "cell_type": "code",
      "source": [
        "recycle = df['Recycling']\n",
        "recycle.unique()\n",
        "recycle.value_counts()"
      ],
      "metadata": {
        "id": "3KPu4aKmaLlX",
        "colab": {
          "base_uri": "https://localhost:8080/"
        },
        "outputId": "1f007911-ce3d-49ed-b90f-8096fb8d90ba"
      },
      "id": "3KPu4aKmaLlX",
      "execution_count": 176,
      "outputs": [
        {
          "output_type": "execute_result",
          "data": {
            "text/plain": [
              "['Paper', 'Plastic', 'Metal']             648\n",
              "['Paper', 'Glass', 'Metal']               647\n",
              "['Glass', 'Metal']                        645\n",
              "['Paper', 'Plastic', 'Glass', 'Metal']    637\n",
              "['Paper', 'Plastic']                      633\n",
              "['Plastic', 'Glass']                      633\n",
              "['Plastic', 'Metal']                      630\n",
              "['Plastic', 'Glass', 'Metal']             626\n",
              "['Metal']                                 625\n",
              "['Paper']                                 619\n",
              "['Paper', 'Glass']                        616\n",
              "['Plastic']                               602\n",
              "['Paper', 'Metal']                        589\n",
              "['Paper', 'Plastic', 'Glass']             588\n",
              "['Glass']                                 587\n",
              "Name: Recycling, dtype: int64"
            ]
          },
          "metadata": {},
          "execution_count": 176
        }
      ]
    },
    {
      "cell_type": "markdown",
      "source": [
        "I found the CarbonEmission column interesting because it is giving a very detailed piece of information regarding a person's carbon footprint. However, it is ambiguous as to wether or not this number deals with the monthly footprint or not."
      ],
      "metadata": {
        "id": "K0C94Mucfx3q"
      },
      "id": "K0C94Mucfx3q"
    },
    {
      "cell_type": "code",
      "source": [
        "#Once again, there is a great amount of carbon emission values, and I think the\n",
        "#data would be a lot more readible and easier to compare if I added a new column\n",
        "#of personal monthly carbon emissions ranges rather than just specific values\n",
        "carbon_emissions = df['CarbonEmission']\n",
        "print(carbon_emissions.unique())"
      ],
      "metadata": {
        "id": "bWKDVC_5b9xH"
      },
      "id": "bWKDVC_5b9xH",
      "execution_count": null,
      "outputs": []
    },
    {
      "cell_type": "code",
      "source": [
        "df['CarbonEmission'] = pd.to_numeric(df['CarbonEmission'], errors='coerce')"
      ],
      "metadata": {
        "id": "ZJp8YBfzc2eb"
      },
      "id": "ZJp8YBfzc2eb",
      "execution_count": 136,
      "outputs": []
    },
    {
      "cell_type": "code",
      "source": [
        "bins = [500, 1000, 1050, 2000,float('inf')]\n",
        "labels = ['0-500','500-1000','1001-1500','1501-2000']\n",
        "df['CarbonEmissionRange'] = pd.cut(df['CarbonEmission'], bins=bins, labels=labels, right=False)\n",
        "print(df['CarbonEmissionRange'])"
      ],
      "metadata": {
        "id": "ZhnKRm2Dc_aV",
        "outputId": "8b762646-271f-4581-dc18-585a19fb0056",
        "colab": {
          "base_uri": "https://localhost:8080/"
        }
      },
      "id": "ZhnKRm2Dc_aV",
      "execution_count": 189,
      "outputs": [
        {
          "output_type": "stream",
          "name": "stdout",
          "text": [
            "0       1501-2000\n",
            "1       1001-1500\n",
            "2       1501-2000\n",
            "3       1001-1500\n",
            "4       1501-2000\n",
            "          ...    \n",
            "9995    1501-2000\n",
            "9996    1501-2000\n",
            "9997    1501-2000\n",
            "9998    1501-2000\n",
            "9999        0-500\n",
            "Name: CarbonEmissionRange, Length: 10000, dtype: category\n",
            "Categories (4, object): ['0-500' < '500-1000' < '1001-1500' < '1501-2000']\n"
          ]
        }
      ]
    },
    {
      "cell_type": "markdown",
      "source": [
        "4"
      ],
      "metadata": {
        "id": "K6epfo_C51VW"
      },
      "id": "K6epfo_C51VW"
    },
    {
      "cell_type": "code",
      "source": [
        "#Grocery Bill Variable\n",
        "import seaborn as sns\n",
        "sns.boxplot(df['Monthly_Grocery_Bill'],whis=[5, 100])"
      ],
      "metadata": {
        "colab": {
          "base_uri": "https://localhost:8080/",
          "height": 428
        },
        "id": "oHu-uvGeyPe2",
        "outputId": "0adce2e1-c43e-48f0-eb18-e459de8e655a"
      },
      "id": "oHu-uvGeyPe2",
      "execution_count": 169,
      "outputs": [
        {
          "output_type": "execute_result",
          "data": {
            "text/plain": [
              "<Axes: ylabel='Monthly_Grocery_Bill'>"
            ]
          },
          "metadata": {},
          "execution_count": 169
        },
        {
          "output_type": "display_data",
          "data": {
            "text/plain": [
              "<Figure size 640x480 with 1 Axes>"
            ],
            "image/png": "[encoded data removed]"
          },
          "metadata": {}
        }
      ]
    },
    {
      "cell_type": "markdown",
      "source": [
        "In this first box plot for the Monthly Grocery Bills values there are no obvious outliers. It seems like this set of values seems to be very similar."
      ],
      "metadata": {
        "id": "47u2pZIy6Jot"
      },
      "id": "47u2pZIy6Jot"
    },
    {
      "cell_type": "code",
      "source": [
        "#Recycling Variable\n",
        "df_graph = pd.Series(df['Recycling'])\n",
        "counts = df_graph.value_counts()\n",
        "plt.bar(counts.index, counts.values)\n",
        "plt.xticks(rotation=45)"
      ],
      "metadata": {
        "colab": {
          "base_uri": "https://localhost:8080/",
          "height": 865
        },
        "id": "u6SdOmqu1Aeq",
        "outputId": "37806070-c4d2-4a42-cce6-7162e02a5111"
      },
      "id": "u6SdOmqu1Aeq",
      "execution_count": 177,
      "outputs": [
        {
          "output_type": "execute_result",
          "data": {
            "text/plain": [
              "([0, 1, 2, 3, 4, 5, 6, 7, 8, 9, 10, 11, 12, 13, 14],\n",
              " [Text(0, 0, \"['Paper', 'Plastic', 'Metal']\"),\n",
              "  Text(1, 0, \"['Paper', 'Glass', 'Metal']\"),\n",
              "  Text(2, 0, \"['Glass', 'Metal']\"),\n",
              "  Text(3, 0, \"['Paper', 'Plastic', 'Glass', 'Metal']\"),\n",
              "  Text(4, 0, \"['Paper', 'Plastic']\"),\n",
              "  Text(5, 0, \"['Plastic', 'Glass']\"),\n",
              "  Text(6, 0, \"['Plastic', 'Metal']\"),\n",
              "  Text(7, 0, \"['Plastic', 'Glass', 'Metal']\"),\n",
              "  Text(8, 0, \"['Metal']\"),\n",
              "  Text(9, 0, \"['Paper']\"),\n",
              "  Text(10, 0, \"['Paper', 'Glass']\"),\n",
              "  Text(11, 0, \"['Plastic']\"),\n",
              "  Text(12, 0, \"['Paper', 'Metal']\"),\n",
              "  Text(13, 0, \"['Paper', 'Plastic', 'Glass']\"),\n",
              "  Text(14, 0, \"['Glass']\")])"
            ]
          },
          "metadata": {},
          "execution_count": 177
        },
        {
          "output_type": "display_data",
          "data": {
            "text/plain": [
              "<Figure size 640x480 with 1 Axes>"
            ],
            "image/png": "[encoded data removed]"
          },
          "metadata": {}
        }
      ]
    },
    {
      "cell_type": "markdown",
      "source": [
        "Looking at the Recycling column in a bar plot graph, most values range in the high 500s. I think this graph does a good job at visualizing the differing products that individuals recycle."
      ],
      "metadata": {
        "id": "WkUZ2TwL7FhU"
      },
      "id": "WkUZ2TwL7FhU"
    },
    {
      "cell_type": "code",
      "source": [
        "#Carbon Emissions Range\n",
        "df_graph = pd.Series(df['CarbonEmissionRange'])\n",
        "counts = df_graph.value_counts()\n",
        "plt.bar(counts.index, counts.values)"
      ],
      "metadata": {
        "colab": {
          "base_uri": "https://localhost:8080/",
          "height": 447
        },
        "id": "Qw9Uggvzz6ds",
        "outputId": "fd039716-1b00-4b20-ab89-1fbc31e845cf"
      },
      "id": "Qw9Uggvzz6ds",
      "execution_count": 190,
      "outputs": [
        {
          "output_type": "execute_result",
          "data": {
            "text/plain": [
              "<BarContainer object of 4 artists>"
            ]
          },
          "metadata": {},
          "execution_count": 190
        },
        {
          "output_type": "display_data",
          "data": {
            "text/plain": [
              "<Figure size 640x480 with 1 Axes>"
            ],
            "image/png": "[encoded data removed]"
          },
          "metadata": {}
        }
      ]
    },
    {
      "cell_type": "markdown",
      "source": [
        "In this last bar plot the Carbon Emission Range is displayed. From the graph, you can see that the average carbon emissions range, ranges from 1,000-2,000. The main outlier lies in 500-1000. This data tells us a lot about the average carbon footprint of the data.  "
      ],
      "metadata": {
        "id": "qLsPZKb_8AlJ"
      },
      "id": "qLsPZKb_8AlJ"
    },
    {
      "cell_type": "markdown",
      "source": [
        "5 Create a scatter plot, and describe the relationship you see.\n",
        "Create a table (cross tabulation, variance-covariance, or a .describe() five-number summary), and explain what you see."
      ],
      "metadata": {
        "id": "fP7US92JgLUX"
      },
      "id": "fP7US92JgLUX"
    },
    {
      "cell_type": "code",
      "source": [
        "sns.scatterplot(data=df,x='Waste Bag Weekly Count',y='Monthly_Grocery_Bill',hue='CarbonEmissionRange')\n"
      ],
      "metadata": {
        "colab": {
          "base_uri": "https://localhost:8080/",
          "height": 466
        },
        "id": "oTq8VV9Q89DO",
        "outputId": "f0c55421-3f66-4212-a6b9-aaa3eca73463"
      },
      "id": "oTq8VV9Q89DO",
      "execution_count": 192,
      "outputs": [
        {
          "output_type": "execute_result",
          "data": {
            "text/plain": [
              "<Axes: xlabel='Waste Bag Weekly Count', ylabel='Monthly_Grocery_Bill'>"
            ]
          },
          "metadata": {},
          "execution_count": 192
        },
        {
          "output_type": "display_data",
          "data": {
            "text/plain": [
              "<Figure size 640x480 with 1 Axes>"
            ],
            "image/png": "[encoded data removed]"
          },
          "metadata": {}
        }
      ]
    },
    {
      "cell_type": "markdown",
      "source": [
        "For this scatterplot, I chose to compare the carbon emission range in comparison to the Waste Bag Weekly Count and monthly grocery bill. The reason I chose Wast bag instead of recycling was because of the copious amount of variables that would be hard to read on a graph. From this scatter plot, it does not give a lot of information. The points are uniform because we have discrete variables."
      ],
      "metadata": {
        "id": "Hkh3_aAG9uN_"
      },
      "id": "Hkh3_aAG9uN_"
    },
    {
      "cell_type": "markdown",
      "source": [
        "6"
      ],
      "metadata": {
        "id": "XF35b-B4gPAa"
      },
      "id": "XF35b-B4gPAa"
    },
    {
      "cell_type": "code",
      "source": [
        "print(pd.crosstab(df['CarbonEmissionRange'],df['Monthly_Grocery_Bill']),'\\n')"
      ],
      "metadata": {
        "colab": {
          "base_uri": "https://localhost:8080/"
        },
        "id": "in9EbVUd_vkH",
        "outputId": "df5c6c02-ea82-422a-8e1f-aecda1860e1d"
      },
      "id": "in9EbVUd_vkH",
      "execution_count": 193,
      "outputs": [
        {
          "output_type": "stream",
          "name": "stdout",
          "text": [
            "Monthly_Grocery_Bill  51-100  101-150  151-200  201-250  251-300\n",
            "CarbonEmissionRange                                             \n",
            "0-500                    122      122      108       68       62\n",
            "500-1000                  28       26       18       18       18\n",
            "1001-1500                880      814      817      810      727\n",
            "1501-2000                990     1028     1074     1094     1159 \n",
            "\n"
          ]
        }
      ]
    },
    {
      "cell_type": "markdown",
      "source": [
        "Based on the results from this table, it seems that a person's monthly grocery bill has varying impacts on their monthly carbon footprint. A person who spends $100< on groceries per month seems to see a lower influence in their carbon footprint. The highest range of monthly carbon footprint lies between 1501-2001 which sees an increase in numbers as the monthly grocery bill rises. I think these results are meaningful because they highlight the other factors that may have a greater influence on a person's carbon footprint."
      ],
      "metadata": {
        "id": "OJGfurSuARrf"
      },
      "id": "OJGfurSuARrf"
    }
  ],
  "metadata": {
    "colab": {
      "provenance": []
    },
    "kernelspec": {
      "display_name": "Python 3 (ipykernel)",
      "language": "python",
      "name": "python3"
    },
    "language_info": {
      "codemirror_mode": {
        "name": "ipython",
        "version": 3
      },
      "file_extension": ".py",
      "mimetype": "text/x-python",
      "name": "python",
      "nbconvert_exporter": "python",
      "pygments_lexer": "ipython3",
      "version": "3.10.4"
    }
  },
  "nbformat": 4,
  "nbformat_minor": 5
}